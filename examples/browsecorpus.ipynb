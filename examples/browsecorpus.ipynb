{
 "cells": [
  {
   "cell_type": "code",
   "execution_count": 4,
   "id": "c3912597",
   "metadata": {},
   "outputs": [],
   "source": [
    "from gatenlp.corpora.dirs import DirFilesCorpus\n",
    "from gatenlp.visualization import CorpusViewer"
   ]
  },
  {
   "cell_type": "code",
   "execution_count": 5,
   "id": "5bad5065",
   "metadata": {},
   "outputs": [],
   "source": [
    "corpus = DirFilesCorpus(\"tmpdir1\")"
   ]
  },
  {
   "cell_type": "code",
   "execution_count": 6,
   "id": "37bff146",
   "metadata": {},
   "outputs": [
    {
     "data": {
      "application/vnd.jupyter.widget-view+json": {
       "model_id": "916c0b5eeb464e43aab1ae98e3818a00",
       "version_major": 2,
       "version_minor": 0
      },
      "text/plain": [
       "HBox(children=(Button(icon='arrow-left', layout=Layout(width='5em'), style=ButtonStyle()), IntSlider(value=4, …"
      ]
     },
     "metadata": {},
     "output_type": "display_data"
    },
    {
     "data": {
      "text/html": [
       "<div><style>#KSWKGELUAN-wrapper { color: black !important; }</style>\n",
       "<div id=\"KSWKGELUAN-wrapper\">\n",
       "\n",
       "<div>\n",
       "<style>\n",
       "#KSWKGELUAN-content {\n",
       "    width: 100%;\n",
       "    height: 100%;\n",
       "    font-family: -apple-system, BlinkMacSystemFont, 'Segoe UI', Roboto, Oxygen, Ubuntu, Cantarell, 'Open Sans', 'Helvetica Neue', sans-serif;\n",
       "}\n",
       "\n",
       ".KSWKGELUAN-row {\n",
       "    width: 100%;\n",
       "    display: flex;\n",
       "    flex-direction: row;\n",
       "    flex-wrap: nowrap;\n",
       "}\n",
       "\n",
       ".KSWKGELUAN-col {\n",
       "    border: 1px solid grey;\n",
       "    display: inline-block;\n",
       "    min-width: 200px;\n",
       "    padding: 5px;\n",
       "    /* white-space: normal; */\n",
       "    /* white-space: pre-wrap; */\n",
       "    overflow-y: auto;\n",
       "}\n",
       "\n",
       ".KSWKGELUAN-hdr {\n",
       "    font-size: 1.2rem;\n",
       "    font-weight: bold;\n",
       "}\n",
       "\n",
       ".KSWKGELUAN-label {\n",
       "    margin-bottom: -15px;\n",
       "    display: block;\n",
       "}\n",
       "\n",
       ".KSWKGELUAN-input {\n",
       "    vertical-align: middle;\n",
       "    position: relative;\n",
       "    *overflow: hidden;\n",
       "}\n",
       "\n",
       "#KSWKGELUAN-popup {\n",
       "    display: none;\n",
       "    color: black;\n",
       "    position: absolute;\n",
       "    margin-top: 10%;\n",
       "    margin-left: 10%;\n",
       "    background: #aaaaaa;\n",
       "    width: 60%;\n",
       "    height: 60%;\n",
       "    z-index: 50;\n",
       "    padding: 25px 25px 25px;\n",
       "    border: 1px solid black;\n",
       "    overflow: auto;\n",
       "}\n",
       "\n",
       ".KSWKGELUAN-selection {\n",
       "    margin-bottom: 5px;\n",
       "}\n",
       "\n",
       ".KSWKGELUAN-featuretable {\n",
       "    margin-top: 10px;\n",
       "}\n",
       "\n",
       ".KSWKGELUAN-fname {\n",
       "    text-align: left !important;\n",
       "    font-weight: bold;\n",
       "    margin-right: 10px;\n",
       "}\n",
       ".KSWKGELUAN-fvalue {\n",
       "    text-align: left !important;\n",
       "}\n",
       "</style>\n",
       "  <div id=\"KSWKGELUAN-content\">\n",
       "        <div id=\"KSWKGELUAN-popup\" style=\"display: none;\">\n",
       "        </div>\n",
       "        <div class=\"KSWKGELUAN-row\" id=\"KSWKGELUAN-row1\" style=\"min-height:5em;max-height:20em; min-height:5em;\">\n",
       "            <div id=\"KSWKGELUAN-text-wrapper\" class=\"KSWKGELUAN-col\" style=\"width:70%;\">\n",
       "                <div class=\"KSWKGELUAN-hdr\" id=\"KSWKGELUAN-dochdr\"></div>\n",
       "                <div id=\"KSWKGELUAN-text\" style=\"\">\n",
       "                </div>\n",
       "            </div>\n",
       "            <div id=\"KSWKGELUAN-chooser\" class=\"KSWKGELUAN-col\" style=\"width:30%; border-left-width: 0px;\"></div>\n",
       "        </div>\n",
       "        <div class=\"KSWKGELUAN-row\" id=\"KSWKGELUAN-row2\" style=\"min-height:3em;max-height:14em; min-height: 3em;\">\n",
       "            <div id=\"KSWKGELUAN-details\" class=\"KSWKGELUAN-col\" style=\"width:100%; border-top-width: 0px;\">\n",
       "            </div>\n",
       "        </div>\n",
       "    </div>\n",
       "    \n",
       "    <script type=\"text/javascript\">\n",
       "    let KSWKGELUAN_data = {\"annotation_sets\": {\"\": {\"name\": \"detached-from:\", \"annotations\": [{\"type\": \"Text\", \"start\": 0, \"end\": 131, \"id\": 0, \"features\": {\"class\": \"0\"}}], \"next_annid\": 1}}, \"text\": \"you know that ten bucks you'd spend on a ticket ? just send it to cranky . we don't get paid enough to sit through crap like this .\", \"features\": {}, \"offset_type\": \"j\", \"name\": \"\"} ; \n",
       "    let KSWKGELUAN_parms = {\"presel_set\": [], \"presel_list\": [], \"cols4types\": {}} ;\n",
       "    new gatenlpDocView(new gatenlpDocRep(KSWKGELUAN_data, KSWKGELUAN_parms), \"KSWKGELUAN-\").init();\n",
       "    </script>\n",
       "  </div>\n",
       "\n",
       "</div></div>"
      ]
     },
     "metadata": {},
     "output_type": "display_data"
    }
   ],
   "source": [
    "CorpusViewer(corpus).show()"
   ]
  },
  {
   "cell_type": "code",
   "execution_count": null,
   "id": "e2b572c5",
   "metadata": {},
   "outputs": [],
   "source": []
  }
 ],
 "metadata": {
  "kernelspec": {
   "display_name": "gatenlp-37",
   "language": "python",
   "name": "gatenlp-37"
  },
  "language_info": {
   "codemirror_mode": {
    "name": "ipython",
    "version": 3
   },
   "file_extension": ".py",
   "mimetype": "text/x-python",
   "name": "python",
   "nbconvert_exporter": "python",
   "pygments_lexer": "ipython3",
   "version": "3.7.9"
  }
 },
 "nbformat": 4,
 "nbformat_minor": 5
}
